{
 "cells": [
  {
   "cell_type": "markdown",
   "metadata": {},
   "source": [
    "# Midnight Sun CTF 2020"
   ]
  },
  {
   "cell_type": "markdown",
   "metadata": {},
   "source": [
    "## rsa_yay"
   ]
  },
  {
   "cell_type": "code",
   "execution_count": null,
   "metadata": {},
   "outputs": [],
   "source": [
    "while True:\n",
    "    p = random_prime(2**512)\n",
    "    q = ZZ(int(hex(p)[::-1], 16))\n",
    "    if q.is_prime():\n",
    "        break\n",
    "\n",
    "# hex(p*q)\n",
    "# '7ef80c5df74e6fecf7031e1f00fbbb74c16dfebe9f6ecd29091d51cac41e30465777f5e3f1f291ea82256a72276db682b539e463a6d9111cf6e2f61e50a9280ca506a0803d2a911914a385ac6079b7c6ec58d6c19248c894e67faddf96a8b88b365f16e7cc4bc6e2b4389fa7555706ab4119199ec20e9928f75393c5dc386c65'\n",
    "# hex(ciphertext)\n",
    "# '3ea5b2827eaabaec8e6e1d62c6bb3338f537e36d5fd94e5258577e3a729e071aa745195c9c3e88cb8b46d29614cb83414ac7bf59574e55c280276ba1645fdcabb7839cdac4d352c5d2637d3a46b5ee3c0dec7d0402404aa13525719292f65a451452328ccbd8a0b3412ab738191c1f3118206b36692b980abe092486edc38488'"
   ]
  },
  {
   "cell_type": "markdown",
   "metadata": {},
   "source": [
    "Nếu biết $k$ bit cao nhất của $p$ và $q$, gọi là $ph$ và $qh$ thì ta có chặn\n",
    "\n",
    "$$ph \\cdot qh \\cdot 2^{1024-2k} \\leq n < (ph+1) \\cdot (qh + 1) \\cdot 2^{1024-2k}$$\n",
    "\n",
    "Khi đó, ta brute 12 bit thấp nhất của $p$ và tính nghịch đảo của từng trường hợp trong modulo $2^{12}$. Nghịch đảo này chính là 12 bit thấp nhất của $q$ và suy ra được 12 bit cao nhất của $p$ và $q$."
   ]
  },
  {
   "cell_type": "code",
   "execution_count": 3,
   "metadata": {},
   "outputs": [
    {
     "name": "stdout",
     "output_type": "stream",
     "text": [
      "b'midnight{d1vid3_and_c0nqu3r}x/\\xda\\xc9\\xc4y\\xb4\\xc5!\\x14\\xc4p\\xfal<a\\x00\\xd9m\\xae\\xb0k\\xf8\\xe0\\xb31\\xd9\\xe6J\\xcd\\xaf|\\x0b\\xde6\\xe2\\xe8|>\\xb8\\xa2\\x03\\xa6\\x92\\xf6\\xf3i\\x10\\xbb\\x04\\xc4Ha\\x83d\\x9d}6S\\x88K\\xba\\tp\\xed\\xa3\\xe2\\xaf3\\xc9\\xae\\xa9\\xafF\\xe5\\x0c?\\xae\\x99\\xae\\x12\\xb1\\x9fO\\xd2\\xbc\\x86\\xedi\\xab\\xfc\\xe7I\\x82\\xba\\xfee\\xba\\xf0\\xed'\n"
     ]
    }
   ],
   "source": [
    "from gmpy2 import *\n",
    "import binascii\n",
    "\n",
    "n=0x7ef80c5df74e6fecf7031e1f00fbbb74c16dfebe9f6ecd29091d51cac41e30465777f5e3f1f291ea82256a72276db682b539e463a6d9111cf6e2f61e50a9280ca506a0803d2a911914a385ac6079b7c6ec58d6c19248c894e67faddf96a8b88b365f16e7cc4bc6e2b4389fa7555706ab4119199ec20e9928f75393c5dc386c65\n",
    "cipher=0x3ea5b2827eaabaec8e6e1d62c6bb3338f537e36d5fd94e5258577e3a729e071aa745195c9c3e88cb8b46d29614cb83414ac7bf59574e55c280276ba1645fdcabb7839cdac4d352c5d2637d3a46b5ee3c0dec7d0402404aa13525719292f65a451452328ccbd8a0b3412ab738191c1f3118206b36692b980abe092486edc38488\n",
    "\n",
    "def reverse_hex(x,n):\n",
    "    y=0\n",
    "    for i in range(n):\n",
    "        y=y*16+x%16\n",
    "        x//=16\n",
    "    return y\n",
    "\n",
    "cur=[]\n",
    "\n",
    "# Find all cases for lowest 12 bits\n",
    "for i in range(1,4096,2): # i is lowest 12 bits of p\n",
    "    t=pow(i, -1, 4096)*(n%4096)%4096 # t is lowest 12 bits of q\n",
    "    assert t*i%4096==n%4096\n",
    "    t2=reverse_hex(t,3) # t2 is highest 12 bits of q\n",
    "    i2=reverse_hex(i,3) # i2 is highest 12 bits of p\n",
    "    l=i2*t2<<(4*125*2)\n",
    "    r=(i2+1)*(t2+1)<<(4*125*2)\n",
    "    if l<=n<=r: # check where n is in the range\n",
    "        cur.append(i)\n",
    "\n",
    "# Current digit (in hex)\n",
    "for c in range(4,65):\n",
    "    nc=[]\n",
    "    mod=16**c\n",
    "    for x in cur:\n",
    "        for y in range(16):\n",
    "            i=x+y*16**(c-1) # i is lowest 4c bits of p\n",
    "            t=pow(i, -1, mod) * (n % mod)%mod # t is lowest 4c bits of q\n",
    "            assert t*i%mod==n%mod\n",
    "            t2=reverse_hex(t,c) # t2 is highest 4c bits of q\n",
    "            i2=reverse_hex(i,c) # i2 is highest 4c bits of p\n",
    "            l=i2*t2<<(4*(128-c)*2)\n",
    "            r=(i2+1)*(t2+1)<<(4*(128-c)*2)\n",
    "            if l<=n<=r: # check where n is in the range\n",
    "                nc.append(i)\n",
    "    cur=nc\n",
    "\n",
    "# Find real solution\n",
    "c=64\n",
    "mod=16**c\n",
    "for i in cur:\n",
    "    t=pow(i, -1, mod)*(n%mod)%mod\n",
    "    assert t*i%mod==n%mod\n",
    "    t2=reverse_hex(t,c)\n",
    "    i2=reverse_hex(i,c)\n",
    "    p=t2<<256|i\n",
    "    q=i2<<256|t\n",
    "    if p*q==n:\n",
    "        break\n",
    "\n",
    "e=65537\n",
    "d=pow(e, -1, (p-1)*(q-1))\n",
    "o=pow(cipher,d,p*q)\n",
    "print(binascii.unhexlify(hex(o)[2:]))"
   ]
  }
 ],
 "metadata": {
  "kernelspec": {
   "display_name": "Python 3",
   "language": "python",
   "name": "python3"
  },
  "language_info": {
   "codemirror_mode": {
    "name": "ipython",
    "version": 3
   },
   "file_extension": ".py",
   "mimetype": "text/x-python",
   "name": "python",
   "nbconvert_exporter": "python",
   "pygments_lexer": "ipython3",
   "version": "3.11.5"
  }
 },
 "nbformat": 4,
 "nbformat_minor": 2
}
